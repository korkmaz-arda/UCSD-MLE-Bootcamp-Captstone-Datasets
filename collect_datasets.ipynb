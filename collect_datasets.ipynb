{
 "cells": [
  {
   "cell_type": "code",
   "execution_count": 5,
   "id": "6d57aabf-89c2-48a8-a4a4-eb9a90077183",
   "metadata": {},
   "outputs": [],
   "source": [
    "import requests\n",
    "import os\n",
    "from tqdm import tqdm\n",
    "import threading\n",
    "\n",
    "def download_dataset(url, save_path):\n",
    "    response = requests.get(url, stream=True)\n",
    "    total_size = int(response.headers.get('content-length', 0))\n",
    "    block_size = 1024  # 1 Kibibyte\n",
    "    with open(save_path, 'wb') as file, tqdm(\n",
    "            desc=save_path,\n",
    "            total=total_size,\n",
    "            unit='iB',\n",
    "            unit_scale=True,\n",
    "            unit_divisor=1024,\n",
    "    ) as bar:\n",
    "        for data in response.iter_content(block_size):\n",
    "            file.write(data)\n",
    "            bar.update(len(data))"
   ]
  },
  {
   "cell_type": "code",
   "execution_count": 5,
   "id": "a941e136-3d55-4bb8-af1b-bf74e0e74625",
   "metadata": {},
   "outputs": [],
   "source": [
    "os.makedirs('food-101', exist_ok=True)\n",
    "os.makedirs('uecfoodpix-complete', exist_ok=True)"
   ]
  },
  {
   "cell_type": "markdown",
   "id": "325ffc18-da97-4fc3-b1f2-2d99c34a2a29",
   "metadata": {},
   "source": [
    "## Collect Food 101 dataset"
   ]
  },
  {
   "cell_type": "code",
   "execution_count": 6,
   "id": "4906ce9f-d3be-450e-9c24-a09cc4144b26",
   "metadata": {},
   "outputs": [
    {
     "name": "stderr",
     "output_type": "stream",
     "text": [
      "food-101/food-101.tar.gz: 100%|███████████████████████████████████████████████████████████████████████████████████████████████████████████████████████████████████████| 4.65G/4.65G [03:30<00:00, 23.7MiB/s]\n"
     ]
    }
   ],
   "source": [
    "food_101_url = 'http://data.vision.ee.ethz.ch/cvl/food-101.tar.gz'\n",
    "food_101_save_path = 'food-101/food-101.tar.gz'\n",
    "download_dataset(food_101_url, food_101_save_path)"
   ]
  },
  {
   "cell_type": "markdown",
   "id": "6d9742d6-f349-4bdf-8c13-5e6981227a50",
   "metadata": {},
   "source": [
    "## Collect UECFoodPix Complete dataset"
   ]
  },
  {
   "cell_type": "code",
   "execution_count": 8,
   "id": "05fb26e4-9d28-4649-b5eb-b21c41c3b117",
   "metadata": {},
   "outputs": [],
   "source": [
    "uecfoodpix_url = 'https://mm.cs.uec.ac.jp/uecfoodpix/UECFOODPIXCOMPLETE.tar'\n",
    "uecfoodpix_save_path = 'uecfoodpix-complete/uecfoodpix-complete.tar.gz'\n",
    "\n",
    "# download_dataset(uecfoodpix_url, uecfoodpix_save_path)"
   ]
  },
  {
   "cell_type": "code",
   "execution_count": 9,
   "id": "010b4472-aea1-45ce-91fa-16f8be0a8e83",
   "metadata": {},
   "outputs": [],
   "source": [
    "# thread_uecfoodpix = threading.Thread(target=download_dataset, args=(uecfoodpix_url, uecfoodpix_save_path))\n",
    "    \n",
    "# thread_uecfoodpix.start()\n",
    "# thread_uecfoodpix.join()"
   ]
  },
  {
   "cell_type": "code",
   "execution_count": 11,
   "id": "6905c4d3-85de-42f2-b183-0d17ebf5a222",
   "metadata": {},
   "outputs": [
    {
     "name": "stdout",
     "output_type": "stream",
     "text": [
      "Initializing download: uecfoodpix-complete/uecfoodpix-complete.tar.gz\n",
      "(null)\n"
     ]
    },
    {
     "name": "stderr",
     "output_type": "stream",
     "text": [
      "Unable to connect to server uecfoodpix-complete:80: Temporary failure in name resolution\n"
     ]
    },
    {
     "data": {
      "text/plain": [
       "256"
      ]
     },
     "execution_count": 11,
     "metadata": {},
     "output_type": "execute_result"
    }
   ],
   "source": [
    "os.system(f\"axel -o {uecfoodpix_url} {uecfoodpix_save_path}\")"
   ]
  },
  {
   "cell_type": "code",
   "execution_count": null,
   "id": "ed618f4c-888b-45f7-b209-42da94de7b4e",
   "metadata": {},
   "outputs": [],
   "source": []
  }
 ],
 "metadata": {
  "kernelspec": {
   "display_name": "Python 3 (ipykernel)",
   "language": "python",
   "name": "python3"
  },
  "language_info": {
   "codemirror_mode": {
    "name": "ipython",
    "version": 3
   },
   "file_extension": ".py",
   "mimetype": "text/x-python",
   "name": "python",
   "nbconvert_exporter": "python",
   "pygments_lexer": "ipython3",
   "version": "3.10.12"
  }
 },
 "nbformat": 4,
 "nbformat_minor": 5
}
